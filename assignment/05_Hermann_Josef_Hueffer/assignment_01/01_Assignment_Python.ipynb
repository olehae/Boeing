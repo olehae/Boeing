{
 "cells": [
  {
   "cell_type": "markdown",
   "source": [
    "# Assignment 01\n",
    "##### Python Basics I\n",
    "\n",
    "This tutorial was written by Terry Ruas (University of Göttingen). The references for external contributors for which this material was anyhow adapted/inspired are in the Acknowledgments section (end of the document).\n"
   ],
   "metadata": {
    "collapsed": false,
    "id": "LZgQdr4W6iKz"
   }
  },
  {
   "cell_type": "markdown",
   "source": [
    "## Task 01 – Hello World!\n",
    "Write a simple program that asks the user to input a name and outputs a simple greeting, such as ‘Hi Name! Nice to meet you!’ and in the other line, ‘Welcome to the Programing Course!’.\n",
    "\n",
    "*Hint: Check out the input () and print() function in Python.* "
   ],
   "metadata": {
    "collapsed": false,
    "id": "4GPUv_8U6iK1"
   }
  },
  {
   "cell_type": "code",
   "execution_count": null,
   "outputs": [],
   "source": [
    "name = input(\"What is your name?  \")\n",
    "print(f\"Hi {name}! Nice to meet you!\")\n",
    "print(\"Welcome to the Programming Course!\")"
   ],
   "metadata": {
    "id": "xt3XV0YD6iK2"
   }
  },
  {
   "cell_type": "markdown",
   "source": [
    "## Task 02 – Reversed Words\n",
    "Write a program that reads in a word provided by the user and prints the word in a reversed order. For example, if the input is hello, the output should be ‘olleh’. \n",
    "\n",
    "- Use a loop structure \n",
    "- Use just array indexes \n"
   ],
   "metadata": {
    "collapsed": false,
    "id": "_Jz4T4AQ6iK3"
   }
  },
  {
   "cell_type": "code",
   "execution_count": null,
   "outputs": [],
   "source": [
    "word = input(\"Please insert a word: \")\n",
    "result = []\n",
    "for letter in word[::-1]:\n",
    "    result.append(letter)\n",
    "print(result)\n"
   ],
   "metadata": {
    "id": "aKLGcZ0_6iK3"
   }
  },
  {
   "cell_type": "markdown",
   "source": [
    "## Task 03 –  Fibonacci Numbers\n",
    "Write a program that reads in an upper bound (number) provided by the user and prints the sequence of Fibonacci numbers that are less or equal to the number given by the user. Use a while-loop for this task. \n",
    "\n",
    "The Fibonacci sequence is defined as \n",
    "$ F_{n}=F_{n−1}+F_{n−2}$. Use $F_{0}=0$ and $F_{1} = 1$ as seed values.  \n",
    "\n",
    "For example, if the user inputs 6, the output should be 0, 1, 1, 2, 3, 5. \n",
    "\n",
    "\n",
    "\n"
   ],
   "metadata": {
    "collapsed": false,
    "id": "PalhJ9x36iK4"
   }
  },
  {
   "cell_type": "code",
   "execution_count": null,
   "outputs": [],
   "source": [
    "user_num = input(\"Please give a number: \")\n",
    "result = [0, 1]\n",
    "first = 0\n",
    "second = 1\n",
    "end = False\n",
    "while not end:\n",
    "    new_second = first + second\n",
    "    if new_second > user_num:\n",
    "        end = True\n",
    "    else:\n",
    "        first = second\n",
    "        second = new_second\n",
    "        result.append(second)\n",
    "print(result, end=\", \")"
   ],
   "metadata": {
    "id": "vm5UlcKB6iK4"
   }
  },
  {
   "cell_type": "markdown",
   "source": [
    "## Task 04 – Selective Printing \n",
    "\n",
    "Write a program that reads in an upper bound (number) provided by the user and prints all integer numbers that are less or equal to the upper bound except the integer numbers that are divisible by 3. Use the continue statement. For example, if the user enters 6 as the upper bound, the output should be 0, 1, 2, 4, 5.  "
   ],
   "metadata": {
    "collapsed": false,
    "id": "JV1Mm9qA6iK5"
   }
  },
  {
   "cell_type": "code",
   "execution_count": null,
   "outputs": [],
   "source": [
    "user_num = input(\"Please insert a number\")\n",
    "result = []\n",
    "resent_num = 0\n",
    "end = False\n",
    "while not end:\n",
    "    if resent_num == user_num:\n",
    "        break\n",
    "    else:\n",
    "        result.append(resent_num)\n",
    "        resent_num += 1\n",
    "        continue\n",
    "print(result, end=\", \")"
   ],
   "metadata": {
    "id": "C3i7ctus6iK6"
   }
  },
  {
   "cell_type": "markdown",
   "source": [
    "## Task 05 – Triangle Checking   \n",
    "\n",
    "Write a Python program that asks the user to input the lengths of the sides in a triangle and outputs whether the triangle is equilateral, isosceles, or scalene. The program should also check for the Triangle inequality $(z < x + y)$,  and prompt the user for a valid input. \n",
    "\n",
    "- An equilateral triangle is a triangle in which all three sides are of equal length. \n",
    "- An isosceles triangle is a triangle with (at least) two sides of equal length. \n",
    "- A scalene triangle is a triangle in which all three sides have different lengths. \n",
    "\n",
    "For example, if the user inputs a=3, b=4, c=5, the triangle is scalene. \n"
   ],
   "metadata": {
    "collapsed": false,
    "id": "qz4P36Lz6iK6"
   }
  },
  {
   "cell_type": "code",
   "execution_count": null,
   "outputs": [],
   "source": [
    "print(\"Please insert the length of three sides of your triangle:\")\n",
    "x = int(input(\"x = \"))\n",
    "y = int(input(\"y = \"))\n",
    "z = int(input(\"z = \"))\n",
    "\n",
    "if x + y < z or y + z < x or x + z < y:\n",
    "    print(\"That was not a valid input. Please reconsider and restart. The following output is not correct.\")\n",
    "\n",
    "if x == y == z:\n",
    "    print(\"The triangle is equilateral (and isosceles).\")\n",
    "elif x == y or y == z or x == z:\n",
    "    print(\"The triangle is isosceles.\")\n",
    "else:\n",
    "    print(\"The triangle is scalene.\")\n"
   ],
   "metadata": {
    "id": "2c67p_Zc6iK7"
   }
  },
  {
   "cell_type": "markdown",
   "source": [
    "## Task 06 – Decimal to Octal Conversion \n",
    "\n",
    "Write a program that reads a non-negative integer number in the decimal representation provided by the user and prints the octal representation of the number. For example, if the user enters 167, the output should be 247.  \n",
    "\n",
    "Write a more general program that reads in a non-negative number (potentially including decimal places) in the decimal representation provided by the user and prints the octal representation of the number. For example, if the user enters 25.11, the output should be 31.0702436560507534. "
   ],
   "metadata": {
    "collapsed": false,
    "id": "k1kh3odh6iK7"
   }
  },
  {
   "cell_type": "code",
   "execution_count": null,
   "outputs": [],
   "source": [
    "def float_octal(number, places = 3):\n",
    "\n",
    "    whole, dec = str(number).split(\".\")\n",
    "\n",
    "    whole = int(whole)\n",
    "    dec = int (dec)\n",
    "\n",
    "    res = oct(whole).lstrip(\"0o\") + \".\"\n",
    "\n",
    "    for x in range(places):\n",
    "\n",
    "        whole, dec = str((decimal_converter(dec)) * 8).split(\".\")\n",
    "        dec = int(dec)\n",
    "        res += whole\n",
    "    return res\n",
    "\n",
    "def decimal_converter(num):\n",
    "    while num > 1:\n",
    "        num /= 10\n",
    "    return num\n",
    "\n",
    "\n",
    "n = input(\"Enter your floating point value : \\n\")\n",
    "\n",
    "\n",
    "p = int(input(\"Enter the number of decimal places of the result : \\n\"))\n",
    "\n",
    "print(float_octal(n, places = p))"
   ],
   "metadata": {
    "id": "2-UCbTRQ6iK7"
   }
  },
  {
   "cell_type": "markdown",
   "source": [
    "## Acknowledgements\n",
    "\n",
    "Redmond, Hsu, Saini, Gupta, Ramsey, Kondrich, Capoor, Cohen, Borus, Kincaid, Malik, and many others. - Stanford CS41"
   ],
   "metadata": {
    "collapsed": false,
    "id": "Wl9JCEYM6iK-"
   }
  },
  {
   "cell_type": "code",
   "execution_count": null,
   "outputs": [],
   "source": [],
   "metadata": {
    "id": "Bx-WQj4v6iK-"
   }
  }
 ],
 "metadata": {
  "kernelspec": {
   "display_name": "Python 3",
   "language": "python",
   "name": "python3"
  },
  "language_info": {
   "codemirror_mode": {
    "name": "ipython",
    "version": 2
   },
   "file_extension": ".py",
   "mimetype": "text/x-python",
   "name": "python",
   "nbconvert_exporter": "python",
   "pygments_lexer": "ipython2",
   "version": "2.7.6"
  },
  "colab": {
   "provenance": [],
   "collapsed_sections": []
  }
 },
 "nbformat": 4,
 "nbformat_minor": 0
}
